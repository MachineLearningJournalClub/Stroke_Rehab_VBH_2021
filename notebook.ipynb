{
  "nbformat": 4,
  "nbformat_minor": 0,
  "metadata": {
    "colab": {
      "name": "EleMisi.ipynb",
      "provenance": [],
      "collapsed_sections": [
        "pi8p7MRAzkT1",
        "RgBgkjfDzopi",
        "8Z2mne6A-1wq"
      ],
      "toc_visible": true
    },
    "kernelspec": {
      "name": "python3",
      "display_name": "Python 3"
    },
    "language_info": {
      "name": "python"
    }
  },
  "cells": [
    {
      "cell_type": "markdown",
      "metadata": {
        "id": "pi8p7MRAzkT1"
      },
      "source": [
        "# Configuration"
      ]
    },
    {
      "cell_type": "code",
      "metadata": {
        "colab": {
          "base_uri": "https://localhost:8080/"
        },
        "id": "r5luVfHFtNNy",
        "outputId": "597d1a64-1898-4e3a-c537-5b231f33ed95"
      },
      "source": [
        "!pip install mne"
      ],
      "execution_count": 16,
      "outputs": [
        {
          "output_type": "stream",
          "text": [
            "Requirement already satisfied: mne in /usr/local/lib/python3.7/dist-packages (0.22.1)\n",
            "Requirement already satisfied: scipy>=0.17.1 in /usr/local/lib/python3.7/dist-packages (from mne) (1.4.1)\n",
            "Requirement already satisfied: numpy>=1.11.3 in /usr/local/lib/python3.7/dist-packages (from mne) (1.19.5)\n"
          ],
          "name": "stdout"
        }
      ]
    },
    {
      "cell_type": "code",
      "metadata": {
        "id": "rJS-W1y3zjyE"
      },
      "source": [
        "import matplotlib.pyplot as plt\n",
        "from mne.decoding import CSP\n",
        "import numpy as np\n",
        "import os\n",
        "import pandas as pd\n",
        "from scipy import io\n",
        "from sklearn.svm  import SVC\n",
        "from sklearn.linear_model import LogisticRegression\n",
        "from sklearn.neural_network import MLPClassifier\n",
        "import seaborn as sns\n",
        "sns.set(style=\"darkgrid\")\n",
        "sns.set(font_scale=1.3)\n",
        "%matplotlib inline\n",
        "\n",
        "from utils import best_model_on_TestSet, customized_GridSearch, plot_models_acc, prepare_Data \n"
      ],
      "execution_count": 17,
      "outputs": []
    },
    {
      "cell_type": "markdown",
      "metadata": {
        "id": "RgBgkjfDzopi"
      },
      "source": [
        "# Read Data"
      ]
    },
    {
      "cell_type": "code",
      "metadata": {
        "colab": {
          "base_uri": "https://localhost:8080/"
        },
        "id": "qZYrOB--zdCa",
        "outputId": "80892545-3831-4bcd-f6ae-a5672cef4b45"
      },
      "source": [
        "!unzip /content/drive/MyDrive/BCI_StrokeRehab/Risultati_2s.zip # Replace with your file path"
      ],
      "execution_count": 18,
      "outputs": [
        {
          "output_type": "stream",
          "text": [
            "Archive:  /content/drive/MyDrive/BCI_StrokeRehab/Risultati_2s.zip\n",
            "replace Risultati/Processed_P1_post_test.mat? [y]es, [n]o, [A]ll, [N]one, [r]ename: N\n"
          ],
          "name": "stdout"
        }
      ]
    },
    {
      "cell_type": "markdown",
      "metadata": {
        "id": "FP7cA2-IlkAl"
      },
      "source": [
        "We store data into a nested dictionary with the following structure:\n",
        "\n",
        "```\n",
        "  data = {\"patient1\":{\n",
        "                      \"pre\" : {\"train\": {\"DxRaw\" : [],\n",
        "                                       \"DxFilt\" : [],\n",
        "                                       \"SxRaw\" : [],\n",
        "                                       \"SxFilt\" : [],\n",
        "                                       \"tr\" : []},\n",
        "\n",
        "                              \"test\" : {\"DxRaw\" : [],\n",
        "                                       \"DxFilt\" : [],\n",
        "                                       \"SxRaw\" : [],\n",
        "                                       \"SxFilt\" : [],\n",
        "                                       \"tr\" : []}},\n",
        "\n",
        "                      \"post\": {\"train\": {\"DxRaw\" : [],\n",
        "                                        \"DxFilt\" : [],\n",
        "                                        \"SxRaw\" : [],\n",
        "                                        \"SxFilt\" : [],\n",
        "                                        \"tr\" : []},\n",
        "\n",
        "                               \"test\" : {\"DxRaw\" : [],\n",
        "                                        \"DxFilt\" : [],\n",
        "                                        \"SxRaw\" : [],\n",
        "                                        \"SxFilt\" : [],\n",
        "                                        \"tr\" : []}}},\n",
        "\n",
        "          \"patient2\":{\"pre\":{...},\n",
        "                     \"post\": {...}},\n",
        "\n",
        "          \"patient3\":{...}\n",
        "        }\n",
        "```\n"
      ]
    },
    {
      "cell_type": "code",
      "metadata": {
        "id": "jN15dwtL2EJ_"
      },
      "source": [
        "path = \"/content/Risultati\" # Replace with your own folder path\n",
        "\n",
        "data = {\"patient1\":{\"pre\":{},\n",
        "                    \"post\": {}},\n",
        "        \"patient2\":{\"pre\":{},\n",
        "                    \"post\": {}},\n",
        "        \"patient3\":{\"pre\":{},\n",
        "                    \"post\": {}}\n",
        "        }\n",
        "\n",
        " \n",
        "# Patient 1\n",
        "processed_P1_pre_training = io.loadmat(path + '/Processed_P1_pre_training.mat')\n",
        "processed_P1_pre_test = io.loadmat(path + '/Processed_P1_pre_test')\n",
        "processed_P1_post_training= io.loadmat(path + '/Processed_P1_post_training.mat')\n",
        "processed_P1_post_test= io.loadmat(path + '/Processed_P1_post_test.mat')\n",
        "\n",
        "# Patient 2\n",
        "processed_P2_pre_training = io.loadmat(path + '/Processed_P2_pre_training.mat')\n",
        "processed_P2_pre_test = io.loadmat(path + '/Processed_P2_pre_test')\n",
        "processed_P2_post_training= io.loadmat(path + '/Processed_P2_post_training.mat')\n",
        "processed_P2_post_test= io.loadmat(path + '/Processed_P2_post_test.mat')\n",
        "\n",
        "# Patient 3\n",
        "processed_P3_pre_training = io.loadmat(path + '/Processed_P3_pre_training.mat')\n",
        "processed_P3_pre_test = io.loadmat(path + '/Processed_P3_pre_test')\n",
        "processed_P3_post_training= io.loadmat(path + '/Processed_P3_post_training.mat')\n",
        "processed_P3_post_test= io.loadmat(path + '/Processed_P3_post_test.mat')\n",
        "\n",
        "keys = list(processed_P1_pre_training.keys())\n",
        "for key in keys[:3]:\n",
        "  processed_P1_pre_training.pop(key)\n",
        "  processed_P1_pre_test.pop(key)\n",
        "  processed_P1_post_training.pop(key)\n",
        "  processed_P1_post_test.pop(key)\n",
        "\n",
        "  processed_P2_pre_training.pop(key)\n",
        "  processed_P2_pre_test.pop(key)\n",
        "  processed_P2_post_training.pop(key)\n",
        "  processed_P2_post_test.pop(key)\n",
        "\n",
        "  processed_P3_pre_training.pop(key)\n",
        "  processed_P3_pre_test.pop(key)\n",
        "  processed_P3_post_training.pop(key)\n",
        "  processed_P3_post_test.pop(key)\n",
        "\n",
        "data[\"patient1\"][\"pre\"][\"train\"]= processed_P1_pre_training\n",
        "data[\"patient1\"][\"pre\"][\"test\"]= processed_P1_pre_training\n",
        "data[\"patient1\"][\"post\"][\"train\"] = processed_P1_pre_training\n",
        "data[\"patient1\"][\"post\"][\"test\"] = processed_P1_pre_training\n",
        "\n",
        "data[\"patient2\"][\"pre\"][\"train\"]= processed_P2_pre_training\n",
        "data[\"patient2\"][\"pre\"][\"test\"]= processed_P2_pre_training\n",
        "data[\"patient2\"][\"post\"][\"train\"] = processed_P2_pre_training\n",
        "data[\"patient2\"][\"post\"][\"test\"] = processed_P2_pre_training\n",
        "\n",
        "data[\"patient3\"][\"pre\"][\"train\"]= processed_P3_pre_training\n",
        "data[\"patient3\"][\"pre\"][\"test\"]= processed_P3_pre_training\n",
        "data[\"patient3\"][\"post\"][\"train\"] = processed_P3_pre_training\n",
        "data[\"patient3\"][\"post\"][\"test\"] = processed_P3_pre_training"
      ],
      "execution_count": 19,
      "outputs": []
    },
    {
      "cell_type": "code",
      "metadata": {
        "colab": {
          "base_uri": "https://localhost:8080/"
        },
        "id": "zE-3u0A22cOp",
        "outputId": "9357fb8a-5e2f-4a7a-bcfa-6e5a2087f1a3"
      },
      "source": [
        "# Look at data shape\n",
        "for k,v in data.items():\n",
        "  for kk,vv, in v.items():\n",
        "    print()\n",
        "    for kkk, vvv in vv.items():\n",
        "      for kkkk, vvvv in vvv.items():\n",
        "          print(k, kk, kkk, kkkk,\"shape:\", vvvv.shape)\n",
        "  print()"
      ],
      "execution_count": 20,
      "outputs": [
        {
          "output_type": "stream",
          "text": [
            "\n",
            "patient1 pre train DxFilt shape: (40, 16, 512)\n",
            "patient1 pre train DxRaw shape: (40, 16, 512)\n",
            "patient1 pre train SxFilt shape: (40, 16, 512)\n",
            "patient1 pre train SxRaw shape: (40, 16, 512)\n",
            "patient1 pre train tr shape: (1, 80)\n",
            "patient1 pre test DxFilt shape: (40, 16, 512)\n",
            "patient1 pre test DxRaw shape: (40, 16, 512)\n",
            "patient1 pre test SxFilt shape: (40, 16, 512)\n",
            "patient1 pre test SxRaw shape: (40, 16, 512)\n",
            "patient1 pre test tr shape: (1, 80)\n",
            "\n",
            "patient1 post train DxFilt shape: (40, 16, 512)\n",
            "patient1 post train DxRaw shape: (40, 16, 512)\n",
            "patient1 post train SxFilt shape: (40, 16, 512)\n",
            "patient1 post train SxRaw shape: (40, 16, 512)\n",
            "patient1 post train tr shape: (1, 80)\n",
            "patient1 post test DxFilt shape: (40, 16, 512)\n",
            "patient1 post test DxRaw shape: (40, 16, 512)\n",
            "patient1 post test SxFilt shape: (40, 16, 512)\n",
            "patient1 post test SxRaw shape: (40, 16, 512)\n",
            "patient1 post test tr shape: (1, 80)\n",
            "\n",
            "\n",
            "patient2 pre train DxFilt shape: (40, 16, 512)\n",
            "patient2 pre train DxRaw shape: (40, 16, 512)\n",
            "patient2 pre train SxFilt shape: (40, 16, 512)\n",
            "patient2 pre train SxRaw shape: (40, 16, 512)\n",
            "patient2 pre train tr shape: (1, 80)\n",
            "patient2 pre test DxFilt shape: (40, 16, 512)\n",
            "patient2 pre test DxRaw shape: (40, 16, 512)\n",
            "patient2 pre test SxFilt shape: (40, 16, 512)\n",
            "patient2 pre test SxRaw shape: (40, 16, 512)\n",
            "patient2 pre test tr shape: (1, 80)\n",
            "\n",
            "patient2 post train DxFilt shape: (40, 16, 512)\n",
            "patient2 post train DxRaw shape: (40, 16, 512)\n",
            "patient2 post train SxFilt shape: (40, 16, 512)\n",
            "patient2 post train SxRaw shape: (40, 16, 512)\n",
            "patient2 post train tr shape: (1, 80)\n",
            "patient2 post test DxFilt shape: (40, 16, 512)\n",
            "patient2 post test DxRaw shape: (40, 16, 512)\n",
            "patient2 post test SxFilt shape: (40, 16, 512)\n",
            "patient2 post test SxRaw shape: (40, 16, 512)\n",
            "patient2 post test tr shape: (1, 80)\n",
            "\n",
            "\n",
            "patient3 pre train DxFilt shape: (39, 16, 512)\n",
            "patient3 pre train DxRaw shape: (39, 16, 512)\n",
            "patient3 pre train SxFilt shape: (40, 16, 512)\n",
            "patient3 pre train SxRaw shape: (40, 16, 512)\n",
            "patient3 pre train tr shape: (1, 79)\n",
            "patient3 pre test DxFilt shape: (39, 16, 512)\n",
            "patient3 pre test DxRaw shape: (39, 16, 512)\n",
            "patient3 pre test SxFilt shape: (40, 16, 512)\n",
            "patient3 pre test SxRaw shape: (40, 16, 512)\n",
            "patient3 pre test tr shape: (1, 79)\n",
            "\n",
            "patient3 post train DxFilt shape: (39, 16, 512)\n",
            "patient3 post train DxRaw shape: (39, 16, 512)\n",
            "patient3 post train SxFilt shape: (40, 16, 512)\n",
            "patient3 post train SxRaw shape: (40, 16, 512)\n",
            "patient3 post train tr shape: (1, 79)\n",
            "patient3 post test DxFilt shape: (39, 16, 512)\n",
            "patient3 post test DxRaw shape: (39, 16, 512)\n",
            "patient3 post test SxFilt shape: (40, 16, 512)\n",
            "patient3 post test SxRaw shape: (40, 16, 512)\n",
            "patient3 post test tr shape: (1, 79)\n",
            "\n"
          ],
          "name": "stdout"
        }
      ]
    },
    {
      "cell_type": "markdown",
      "metadata": {
        "id": "8Z2mne6A-1wq"
      },
      "source": [
        "# Grid Search\n"
      ]
    },
    {
      "cell_type": "code",
      "metadata": {
        "id": "i0U61sWNEhgA"
      },
      "source": [
        "##########################\n",
        "# Grid Search Parameters #\n",
        "##########################\n",
        "\n",
        "# CSP parameters \n",
        "parameters_csp = {\n",
        "    'csp__n_components' : (4,6,8),\n",
        "    'csp__log' : (True,)}\n",
        "\n",
        "\n",
        "# LogReg and SVC Parameters\n",
        "parameters_clf = { 'clf__C': (0.25, 0.5, 0.75,)}\n",
        "\n",
        "# MLP Parameters\n",
        "parameters_mlp = {'clf__hidden_layer_sizes': (100,),\n",
        "                  'clf__activation' : ('relu',), \n",
        "                  'clf__max_iter': (1000,)}\n",
        "\n",
        "# CSP\n",
        "csp = CSP()\n",
        "\n",
        "# Classifiers\n",
        "svc = SVC()\n",
        "logreg= LogisticRegression()\n",
        "mlp = MLPClassifier()"
      ],
      "execution_count": 21,
      "outputs": []
    },
    {
      "cell_type": "code",
      "metadata": {
        "id": "rjjERA4WEap-",
        "colab": {
          "base_uri": "https://localhost:8080/"
        },
        "outputId": "ffe177dd-82c6-49ad-cc7a-88b8409ce49a"
      },
      "source": [
        "# Prepare Training Data\n",
        "X_train, y_train = prepare_Data(data, is_train = True)\n",
        "# Perform Grid Search\n",
        "grid_search = customized_GridSearch(mlp, csp, parameters_mlp, parameters_csp, X_train, y_train)"
      ],
      "execution_count": 22,
      "outputs": [
        {
          "output_type": "stream",
          "text": [
            "Performing grid search...\n",
            "pipeline: ['csp', 'clf']\n",
            "parameters:\n",
            "{'csp__n_components': (4, 6, 8), 'csp__log': (True,), 'clf__hidden_layer_sizes': (100,), 'clf__activation': ('relu',), 'clf__max_iter': (1000,)}\n",
            "Fitting 5 folds for each of 3 candidates, totalling 15 fits\n"
          ],
          "name": "stdout"
        },
        {
          "output_type": "stream",
          "text": [
            "[Parallel(n_jobs=-1)]: Using backend LokyBackend with 2 concurrent workers.\n"
          ],
          "name": "stderr"
        },
        {
          "output_type": "stream",
          "text": [
            "Computing rank from data with rank=None\n"
          ],
          "name": "stdout"
        },
        {
          "output_type": "stream",
          "text": [
            "[Parallel(n_jobs=-1)]: Done  15 out of  15 | elapsed:   10.6s finished\n"
          ],
          "name": "stderr"
        },
        {
          "output_type": "stream",
          "text": [
            "    Using tolerance 2.8e+02 (2.2e-16 eps * 16 dim * 7.9e+16  max singular value)\n",
            "    Estimated rank (mag): 16\n",
            "    MAG: rank 16 computed from 16 data channels with 0 projectors\n",
            "Reducing data rank from 16 -> 16\n",
            "Estimating covariance using EMPIRICAL\n",
            "Done.\n",
            "Computing rank from data with rank=None\n",
            "    Using tolerance 2.4e+02 (2.2e-16 eps * 16 dim * 6.7e+16  max singular value)\n",
            "    Estimated rank (mag): 16\n",
            "    MAG: rank 16 computed from 16 data channels with 0 projectors\n",
            "Reducing data rank from 16 -> 16\n",
            "Estimating covariance using EMPIRICAL\n",
            "Done.\n",
            "done in 11.679s\n",
            "\n",
            "Best CV score: 0.598\n",
            "Best parameters set:\n",
            "\tclf__activation: 'relu'\n",
            "\tclf__hidden_layer_sizes: 100\n",
            "\tclf__max_iter: 1000\n",
            "\tcsp__log: True\n",
            "\tcsp__n_components: 4\n"
          ],
          "name": "stdout"
        }
      ]
    },
    {
      "cell_type": "markdown",
      "metadata": {
        "id": "jci6fN_-GR-B"
      },
      "source": [
        "## Test Model"
      ]
    },
    {
      "cell_type": "code",
      "metadata": {
        "colab": {
          "base_uri": "https://localhost:8080/"
        },
        "id": "uvSmE2pAXq_n",
        "outputId": "8dac2d8a-8c29-478d-ea0c-52d4e3d67d56"
      },
      "source": [
        "# Test the best model on each test dataset\n",
        "\n",
        "total_scores = {} # Best model accuracy\n",
        "chance_levels = {} # Chance levels\n",
        "best_parameters = {} # Best model parameters\n",
        "\n",
        "patients = ['patient1', 'patient2', 'patient3']\n",
        "mode_paramters = [['pre','Raw'],\n",
        "                  ['pre','Filt'],\n",
        "                  ['post','Raw'],\n",
        "                  ['post','Filt']]\n",
        "\n",
        "# Run test\n",
        "for patient in patients:\n",
        "  total_scores[patient] = {}\n",
        "  chance_levels[patient] = {}\n",
        "  best_parameters[patient] = {}\n",
        "  for mode in mode_paramters:\n",
        "        print(patient, mode)\n",
        "        X_test, y_test = prepare_Data(data, patient, mode, is_train = False)\n",
        "        best_params, scores = best_model_on_TestSet(grid_search, X_test, y_test)\n",
        "\n",
        "        class_balance = np.mean(y_test == y_test[0])\n",
        "        class_balance = max(class_balance, 1. - class_balance)\n",
        "        total_scores[patient][mode[0] + '_'+ mode[1]] = np.mean(scores)\n",
        "        chance_levels[patient][mode[0] + '_'+ mode[1]] = class_balance\n",
        "        best_parameters[patient][mode[0] + '_'+ mode[1]] = best_params"
      ],
      "execution_count": 23,
      "outputs": [
        {
          "output_type": "stream",
          "text": [
            "patient1 ['pre', 'Raw']\n",
            "Test score with best_estimator_: 0.688\n",
            "\n",
            "\n",
            "Classification Report Test Data\n",
            "              precision    recall  f1-score   support\n",
            "\n",
            "        -1.0       0.65      0.82      0.73        40\n",
            "         1.0       0.76      0.55      0.64        40\n",
            "\n",
            "    accuracy                           0.69        80\n",
            "   macro avg       0.70      0.69      0.68        80\n",
            "weighted avg       0.70      0.69      0.68        80\n",
            "\n",
            "patient1 ['pre', 'Filt']\n",
            "Test score with best_estimator_: 0.500\n",
            "\n",
            "\n",
            "Classification Report Test Data\n",
            "              precision    recall  f1-score   support\n",
            "\n",
            "        -1.0       0.00      0.00      0.00        40\n",
            "         1.0       0.50      1.00      0.67        40\n",
            "\n",
            "    accuracy                           0.50        80\n",
            "   macro avg       0.25      0.50      0.33        80\n",
            "weighted avg       0.25      0.50      0.33        80\n",
            "\n",
            "patient1 ['post', 'Raw']\n",
            "Test score with best_estimator_: 0.688\n",
            "\n",
            "\n",
            "Classification Report Test Data\n",
            "              precision    recall  f1-score   support\n",
            "\n",
            "        -1.0       0.65      0.82      0.73        40\n",
            "         1.0       0.76      0.55      0.64        40\n",
            "\n",
            "    accuracy                           0.69        80\n",
            "   macro avg       0.70      0.69      0.68        80\n",
            "weighted avg       0.70      0.69      0.68        80\n",
            "\n",
            "patient1 ['post', 'Filt']\n",
            "Test score with best_estimator_: 0.500\n",
            "\n",
            "\n",
            "Classification Report Test Data\n",
            "              precision    recall  f1-score   support\n",
            "\n",
            "        -1.0       0.00      0.00      0.00        40\n",
            "         1.0       0.50      1.00      0.67        40\n",
            "\n",
            "    accuracy                           0.50        80\n",
            "   macro avg       0.25      0.50      0.33        80\n",
            "weighted avg       0.25      0.50      0.33        80\n",
            "\n",
            "patient2 ['pre', 'Raw']\n",
            "Test score with best_estimator_: 0.750\n",
            "\n",
            "\n",
            "Classification Report Test Data\n",
            "              precision    recall  f1-score   support\n",
            "\n",
            "        -1.0       0.76      0.72      0.74        40\n",
            "         1.0       0.74      0.78      0.76        40\n",
            "\n",
            "    accuracy                           0.75        80\n",
            "   macro avg       0.75      0.75      0.75        80\n",
            "weighted avg       0.75      0.75      0.75        80\n",
            "\n",
            "patient2 ['pre', 'Filt']\n",
            "Test score with best_estimator_: 0.487\n",
            "\n",
            "\n",
            "Classification Report Test Data\n",
            "              precision    recall  f1-score   support\n",
            "\n",
            "        -1.0       0.00      0.00      0.00        40\n",
            "         1.0       0.49      0.97      0.66        40\n",
            "\n",
            "    accuracy                           0.49        80\n",
            "   macro avg       0.25      0.49      0.33        80\n",
            "weighted avg       0.25      0.49      0.33        80\n",
            "\n",
            "patient2 ['post', 'Raw']\n",
            "Test score with best_estimator_: 0.750\n",
            "\n",
            "\n",
            "Classification Report Test Data\n",
            "              precision    recall  f1-score   support\n",
            "\n",
            "        -1.0       0.76      0.72      0.74        40\n",
            "         1.0       0.74      0.78      0.76        40\n",
            "\n",
            "    accuracy                           0.75        80\n",
            "   macro avg       0.75      0.75      0.75        80\n",
            "weighted avg       0.75      0.75      0.75        80\n",
            "\n",
            "patient2 ['post', 'Filt']\n",
            "Test score with best_estimator_: 0.487\n",
            "\n",
            "\n",
            "Classification Report Test Data\n",
            "              precision    recall  f1-score   support\n",
            "\n",
            "        -1.0       0.00      0.00      0.00        40\n",
            "         1.0       0.49      0.97      0.66        40\n",
            "\n",
            "    accuracy                           0.49        80\n",
            "   macro avg       0.25      0.49      0.33        80\n",
            "weighted avg       0.25      0.49      0.33        80\n",
            "\n",
            "patient3 ['pre', 'Raw']\n",
            "Test score with best_estimator_: 0.684\n",
            "\n",
            "\n",
            "Classification Report Test Data\n",
            "              precision    recall  f1-score   support\n",
            "\n",
            "        -1.0       0.63      0.87      0.73        39\n",
            "         1.0       0.80      0.50      0.62        40\n",
            "\n",
            "    accuracy                           0.68        79\n",
            "   macro avg       0.71      0.69      0.67        79\n",
            "weighted avg       0.72      0.68      0.67        79\n",
            "\n",
            "patient3 ['pre', 'Filt']\n",
            "Test score with best_estimator_: 0.532\n",
            "\n",
            "\n",
            "Classification Report Test Data\n"
          ],
          "name": "stdout"
        },
        {
          "output_type": "stream",
          "text": [
            "/usr/local/lib/python3.7/dist-packages/sklearn/metrics/_classification.py:1272: UndefinedMetricWarning: Precision and F-score are ill-defined and being set to 0.0 in labels with no predicted samples. Use `zero_division` parameter to control this behavior.\n",
            "  _warn_prf(average, modifier, msg_start, len(result))\n",
            "/usr/local/lib/python3.7/dist-packages/sklearn/metrics/_classification.py:1272: UndefinedMetricWarning: Precision and F-score are ill-defined and being set to 0.0 in labels with no predicted samples. Use `zero_division` parameter to control this behavior.\n",
            "  _warn_prf(average, modifier, msg_start, len(result))\n"
          ],
          "name": "stderr"
        },
        {
          "output_type": "stream",
          "text": [
            "              precision    recall  f1-score   support\n",
            "\n",
            "        -1.0       1.00      0.05      0.10        39\n",
            "         1.0       0.52      1.00      0.68        40\n",
            "\n",
            "    accuracy                           0.53        79\n",
            "   macro avg       0.76      0.53      0.39        79\n",
            "weighted avg       0.76      0.53      0.39        79\n",
            "\n",
            "patient3 ['post', 'Raw']\n",
            "Test score with best_estimator_: 0.684\n",
            "\n",
            "\n",
            "Classification Report Test Data\n",
            "              precision    recall  f1-score   support\n",
            "\n",
            "        -1.0       0.63      0.87      0.73        39\n",
            "         1.0       0.80      0.50      0.62        40\n",
            "\n",
            "    accuracy                           0.68        79\n",
            "   macro avg       0.71      0.69      0.67        79\n",
            "weighted avg       0.72      0.68      0.67        79\n",
            "\n",
            "patient3 ['post', 'Filt']\n",
            "Test score with best_estimator_: 0.532\n",
            "\n",
            "\n",
            "Classification Report Test Data\n",
            "              precision    recall  f1-score   support\n",
            "\n",
            "        -1.0       1.00      0.05      0.10        39\n",
            "         1.0       0.52      1.00      0.68        40\n",
            "\n",
            "    accuracy                           0.53        79\n",
            "   macro avg       0.76      0.53      0.39        79\n",
            "weighted avg       0.76      0.53      0.39        79\n",
            "\n"
          ],
          "name": "stdout"
        }
      ]
    },
    {
      "cell_type": "code",
      "metadata": {
        "colab": {
          "base_uri": "https://localhost:8080/",
          "height": 434
        },
        "id": "p24z7baZ9WCL",
        "outputId": "bc732951-78ff-4cef-b037-79e828f4c41c"
      },
      "source": [
        "# Best model accuracy on each dataset\n",
        "pd.DataFrame(total_scores).plot(kind='bar', figsize = (10,6))\n",
        "plt.ylabel(\"Accuracy\");"
      ],
      "execution_count": 24,
      "outputs": [
        {
          "output_type": "display_data",
          "data": {
            "image/png": "[encoded data removed]",
            "text/plain": [
              "<Figure size 720x432 with 1 Axes>"
            ]
          },
          "metadata": {
            "tags": [],
            "needs_background": "light"
          }
        }
      ]
    },
    {
      "cell_type": "code",
      "metadata": {
        "id": "OM652hLZMb1m",
        "colab": {
          "base_uri": "https://localhost:8080/",
          "height": 1000
        },
        "outputId": "c53b7303-50ae-414f-8763-cc50a622b927"
      },
      "source": [
        "plot_models_acc(total_scores['patient1'], total_scores['patient2'], total_scores['patient3'], N=80, alpha = .95, title = 'CSP + MLP + 2s');"
      ],
      "execution_count": 25,
      "outputs": [
        {
          "output_type": "display_data",
          "data": {
            "image/png": "[encoded data removed]",
            "text/plain": [
              "<Figure size 720x432 with 1 Axes>"
            ]
          },
          "metadata": {
            "tags": [],
            "needs_background": "light"
          }
        },
        {
          "output_type": "display_data",
          "data": {
            "image/png": "[encoded data removed]",
            "text/plain": [
              "<Figure size 720x432 with 1 Axes>"
            ]
          },
          "metadata": {
            "tags": [],
            "needs_background": "light"
          }
        },
        {
          "output_type": "display_data",
          "data": {
            "image/png": "[encoded data removed]",
            "text/plain": [
              "<Figure size 720x432 with 1 Axes>"
            ]
          },
          "metadata": {
            "tags": [],
            "needs_background": "light"
          }
        }
      ]
    }
  ]
}